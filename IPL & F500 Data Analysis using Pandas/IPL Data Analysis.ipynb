{
 "cells": [
  {
   "cell_type": "code",
   "execution_count": null,
   "id": "f1632333",
   "metadata": {},
   "outputs": [],
   "source": [
    "import numpy as np\n",
    "import pandas as pd"
   ]
  },
  {
   "cell_type": "code",
   "execution_count": null,
   "id": "10694559",
   "metadata": {},
   "outputs": [],
   "source": [
    "data = pd.read_csv('matches.csv')"
   ]
  },
  {
   "cell_type": "code",
   "execution_count": null,
   "id": "1154fb91",
   "metadata": {},
   "outputs": [],
   "source": [
    "type(data)"
   ]
  },
  {
   "cell_type": "code",
   "execution_count": null,
   "id": "d638e9e4",
   "metadata": {},
   "outputs": [],
   "source": [
    "data"
   ]
  },
  {
   "cell_type": "code",
   "execution_count": null,
   "id": "ec885913",
   "metadata": {},
   "outputs": [],
   "source": [
    "data.head()"
   ]
  },
  {
   "cell_type": "code",
   "execution_count": null,
   "id": "7180798e",
   "metadata": {},
   "outputs": [],
   "source": [
    "data.head(3)"
   ]
  },
  {
   "cell_type": "code",
   "execution_count": null,
   "id": "d4832403",
   "metadata": {},
   "outputs": [],
   "source": [
    "data.tail()"
   ]
  },
  {
   "cell_type": "code",
   "execution_count": null,
   "id": "a0502ffa",
   "metadata": {},
   "outputs": [],
   "source": [
    "data.tail(2)"
   ]
  },
  {
   "cell_type": "code",
   "execution_count": null,
   "id": "11a86ce3",
   "metadata": {},
   "outputs": [],
   "source": [
    "#attribute not a function\n",
    "\n",
    "data.shape"
   ]
  },
  {
   "cell_type": "code",
   "execution_count": null,
   "id": "ffaa69c1",
   "metadata": {},
   "outputs": [],
   "source": [
    "data.info()"
   ]
  },
  {
   "cell_type": "code",
   "execution_count": null,
   "id": "ec4a30d6",
   "metadata": {},
   "outputs": [],
   "source": [
    "data.describe()"
   ]
  },
  {
   "cell_type": "code",
   "execution_count": null,
   "id": "60f331fe",
   "metadata": {},
   "outputs": [],
   "source": [
    "data['winner']"
   ]
  },
  {
   "cell_type": "code",
   "execution_count": null,
   "id": "f98b3914",
   "metadata": {},
   "outputs": [],
   "source": [
    "type(data['winner'])"
   ]
  },
  {
   "cell_type": "code",
   "execution_count": null,
   "id": "d4630e3f",
   "metadata": {},
   "outputs": [],
   "source": [
    "data['winner'].shape"
   ]
  },
  {
   "cell_type": "code",
   "execution_count": null,
   "id": "7cea7c91",
   "metadata": {},
   "outputs": [],
   "source": [
    "data[['team1','team2','winner']]"
   ]
  },
  {
   "cell_type": "code",
   "execution_count": null,
   "id": "313dcbd0",
   "metadata": {},
   "outputs": [],
   "source": [
    "type(data[['team1','team2','winner']])"
   ]
  },
  {
   "cell_type": "code",
   "execution_count": null,
   "id": "8cc48b3a",
   "metadata": {},
   "outputs": [],
   "source": [
    "data[['team1','team2','winner']].shape"
   ]
  },
  {
   "cell_type": "code",
   "execution_count": null,
   "id": "0d1f38e9",
   "metadata": {},
   "outputs": [],
   "source": [
    "data.iloc[0]"
   ]
  },
  {
   "cell_type": "code",
   "execution_count": null,
   "id": "84594586",
   "metadata": {},
   "outputs": [],
   "source": [
    "data.iloc[1:3]"
   ]
  },
  {
   "cell_type": "code",
   "execution_count": null,
   "id": "877ab86d",
   "metadata": {},
   "outputs": [],
   "source": [
    "data.iloc[1:11:2]"
   ]
  },
  {
   "cell_type": "code",
   "execution_count": null,
   "id": "5238313b",
   "metadata": {},
   "outputs": [],
   "source": [
    "# fancy indexing\n",
    "\n",
    "data.iloc[[1,11,2]]"
   ]
  },
  {
   "cell_type": "code",
   "execution_count": null,
   "id": "eff1a6ec",
   "metadata": {},
   "outputs": [],
   "source": [
    "data.iloc[:,[4,5,10]]"
   ]
  },
  {
   "cell_type": "code",
   "execution_count": null,
   "id": "a1c89f05",
   "metadata": {},
   "outputs": [],
   "source": [
    "data['city'] == 'Hyderabad'"
   ]
  },
  {
   "cell_type": "code",
   "execution_count": null,
   "id": "e865d37e",
   "metadata": {},
   "outputs": [],
   "source": [
    "type(data['city'] == 'Hyderabad')"
   ]
  },
  {
   "cell_type": "code",
   "execution_count": null,
   "id": "bcaf7d79",
   "metadata": {},
   "outputs": [],
   "source": [
    "mask = data['city'] == 'Hyderabad'\n",
    "data[mask]"
   ]
  },
  {
   "cell_type": "code",
   "execution_count": null,
   "id": "cfe91eed",
   "metadata": {},
   "outputs": [],
   "source": [
    "data[mask].shape"
   ]
  },
  {
   "cell_type": "code",
   "execution_count": null,
   "id": "1509cf52",
   "metadata": {},
   "outputs": [],
   "source": [
    "data[mask].shape[0]"
   ]
  },
  {
   "cell_type": "code",
   "execution_count": null,
   "id": "1aedb0b9",
   "metadata": {},
   "outputs": [],
   "source": [
    "def get_city_match_count(city):\n",
    "    mask = data['city'] == city\n",
    "    return data[mask].shape[0]"
   ]
  },
  {
   "cell_type": "code",
   "execution_count": null,
   "id": "b706e998",
   "metadata": {},
   "outputs": [],
   "source": [
    "get_city_match_count('Hyderabad')"
   ]
  },
  {
   "cell_type": "code",
   "execution_count": null,
   "id": "3041928a",
   "metadata": {},
   "outputs": [],
   "source": [
    "get_city_match_count('Pune')"
   ]
  },
  {
   "cell_type": "code",
   "execution_count": null,
   "id": "ad3bf174",
   "metadata": {},
   "outputs": [],
   "source": [
    "get_city_match_count('Bangalore')"
   ]
  },
  {
   "cell_type": "code",
   "execution_count": null,
   "id": "09a830ec",
   "metadata": {},
   "outputs": [],
   "source": [
    "mask1 = data['city'] == 'Hyderabad'\n",
    "mask2 = data['date'] > '2010-01-01'\n",
    "\n",
    "data[mask1 & mask2]"
   ]
  },
  {
   "cell_type": "code",
   "execution_count": null,
   "id": "15417aa0",
   "metadata": {},
   "outputs": [],
   "source": [
    "# boolean values so using '&' not 'and'\n",
    "\n",
    "data[mask1 & mask2].shape"
   ]
  },
  {
   "cell_type": "code",
   "execution_count": null,
   "id": "fa6e623d",
   "metadata": {},
   "outputs": [],
   "source": [
    "# value_counts work only on series data and not dataframe\n",
    "data['winner'].value_counts()"
   ]
  },
  {
   "cell_type": "code",
   "execution_count": null,
   "id": "3b930fa9",
   "metadata": {},
   "outputs": [],
   "source": [
    "# The Pandas plot\n",
    "import matplotlib.pyplot as plt "
   ]
  },
  {
   "cell_type": "code",
   "execution_count": null,
   "id": "6203d03f",
   "metadata": {},
   "outputs": [],
   "source": [
    "data['winner'].value_counts().plot(kind='bar')"
   ]
  },
  {
   "cell_type": "code",
   "execution_count": null,
   "id": "50a7cd3a",
   "metadata": {},
   "outputs": [],
   "source": [
    "data['winner'].value_counts().head().plot(kind='bar')"
   ]
  },
  {
   "cell_type": "code",
   "execution_count": null,
   "id": "10cf1bb1",
   "metadata": {},
   "outputs": [],
   "source": [
    "data['winner'].value_counts().head().plot(kind='barh')"
   ]
  },
  {
   "cell_type": "code",
   "execution_count": null,
   "id": "c52c1c9a",
   "metadata": {},
   "outputs": [],
   "source": [
    "data['toss_decision'].value_counts().plot(kind='pie',autopct='%1.0f%%')"
   ]
  },
  {
   "cell_type": "code",
   "execution_count": null,
   "id": "cf9a4aa9",
   "metadata": {},
   "outputs": [],
   "source": [
    "data['win_by_runs'].plot(kind='hist')"
   ]
  },
  {
   "cell_type": "code",
   "execution_count": null,
   "id": "ba1c996f",
   "metadata": {},
   "outputs": [],
   "source": [
    "myseries = data['winner'].value_counts()"
   ]
  },
  {
   "cell_type": "code",
   "execution_count": null,
   "id": "6fedc09a",
   "metadata": {},
   "outputs": [],
   "source": [
    "myseries"
   ]
  },
  {
   "cell_type": "code",
   "execution_count": null,
   "id": "2d7d1373",
   "metadata": {},
   "outputs": [],
   "source": [
    "myseries.index"
   ]
  },
  {
   "cell_type": "code",
   "execution_count": null,
   "id": "d3509c44",
   "metadata": {},
   "outputs": [],
   "source": [
    "myseries.values"
   ]
  },
  {
   "cell_type": "code",
   "execution_count": null,
   "id": "eab35876",
   "metadata": {},
   "outputs": [],
   "source": [
    "myseries.head()"
   ]
  },
  {
   "cell_type": "code",
   "execution_count": null,
   "id": "791f994e",
   "metadata": {},
   "outputs": [],
   "source": [
    "myseries.tail()"
   ]
  },
  {
   "cell_type": "code",
   "execution_count": null,
   "id": "68027e37",
   "metadata": {},
   "outputs": [],
   "source": [
    "myseries['Royal Challengers Bangalore']"
   ]
  },
  {
   "cell_type": "code",
   "execution_count": null,
   "id": "b2abe264",
   "metadata": {},
   "outputs": [],
   "source": [
    "data['team1'].value_counts() + data['team2'].value_counts()"
   ]
  },
  {
   "cell_type": "code",
   "execution_count": null,
   "id": "849e4c61",
   "metadata": {},
   "outputs": [],
   "source": [
    "(data['team1'].value_counts() + data['team2'].value_counts()).sort_values(ascending=False)"
   ]
  },
  {
   "cell_type": "code",
   "execution_count": null,
   "id": "890f915e",
   "metadata": {},
   "outputs": [],
   "source": [
    "data.sort_values('city',ascending=False)"
   ]
  },
  {
   "cell_type": "code",
   "execution_count": null,
   "id": "38bff774",
   "metadata": {},
   "outputs": [],
   "source": [
    "data.sort_values(['city','date'])"
   ]
  },
  {
   "cell_type": "code",
   "execution_count": null,
   "id": "7d91979f",
   "metadata": {},
   "outputs": [],
   "source": [
    "data.sort_values(['city','date'],ascending = [True,False])"
   ]
  },
  {
   "cell_type": "code",
   "execution_count": null,
   "id": "6a8b8664",
   "metadata": {},
   "outputs": [],
   "source": [
    "data.drop_duplicates(subset='city').shape"
   ]
  },
  {
   "cell_type": "code",
   "execution_count": null,
   "id": "6c0f0430",
   "metadata": {},
   "outputs": [],
   "source": [
    "data.drop_duplicates(subset=['city','season']).shape"
   ]
  },
  {
   "cell_type": "code",
   "execution_count": null,
   "id": "ca94df6f",
   "metadata": {},
   "outputs": [],
   "source": [
    "data.drop_duplicates(subset='season',keep='last')[['season','winner']].sort_values('season')"
   ]
  },
  {
   "cell_type": "code",
   "execution_count": null,
   "id": "b60e33d5",
   "metadata": {},
   "outputs": [],
   "source": [
    "deliveries = pd.read_csv('deliveries.csv')"
   ]
  },
  {
   "cell_type": "code",
   "execution_count": null,
   "id": "53118bea",
   "metadata": {},
   "outputs": [],
   "source": [
    "deliveries.head(2)"
   ]
  },
  {
   "cell_type": "code",
   "execution_count": null,
   "id": "b75a1012",
   "metadata": {},
   "outputs": [],
   "source": [
    "deliveries.info()"
   ]
  },
  {
   "cell_type": "code",
   "execution_count": null,
   "id": "fed07d2c",
   "metadata": {},
   "outputs": [],
   "source": [
    "runs = deliveries.groupby('batsman')"
   ]
  },
  {
   "cell_type": "code",
   "execution_count": null,
   "id": "9f3ae23a",
   "metadata": {},
   "outputs": [],
   "source": [
    "runs.get_group('V Kohli').shape"
   ]
  },
  {
   "cell_type": "code",
   "execution_count": null,
   "id": "20e941f4",
   "metadata": {},
   "outputs": [],
   "source": [
    "most_runs = runs['batsman_runs'].sum().sort_values(ascending = False).head()"
   ]
  },
  {
   "cell_type": "code",
   "execution_count": null,
   "id": "c04e2571",
   "metadata": {},
   "outputs": [],
   "source": [
    "most_runs"
   ]
  },
  {
   "cell_type": "code",
   "execution_count": null,
   "id": "2d0e602f",
   "metadata": {},
   "outputs": [],
   "source": [
    "mask1 = deliveries['batsman_runs'] == 6"
   ]
  },
  {
   "cell_type": "code",
   "execution_count": null,
   "id": "aa2bf156",
   "metadata": {},
   "outputs": [],
   "source": [
    "deliveries[mask1]"
   ]
  },
  {
   "cell_type": "code",
   "execution_count": null,
   "id": "ef7b8e27",
   "metadata": {},
   "outputs": [],
   "source": [
    "sixers = deliveries[mask1]"
   ]
  },
  {
   "cell_type": "code",
   "execution_count": null,
   "id": "77cb4b25",
   "metadata": {},
   "outputs": [],
   "source": [
    "sixers.shape[0]"
   ]
  },
  {
   "cell_type": "code",
   "execution_count": null,
   "id": "f17f43ff",
   "metadata": {},
   "outputs": [],
   "source": [
    "sixers = deliveries[mask1].groupby('batsman')['batsman_runs'].count().sort_values(ascending = False)"
   ]
  },
  {
   "cell_type": "code",
   "execution_count": null,
   "id": "eb0acf9c",
   "metadata": {},
   "outputs": [],
   "source": [
    "sixers.head()"
   ]
  },
  {
   "cell_type": "code",
   "execution_count": null,
   "id": "ecd61044",
   "metadata": {},
   "outputs": [],
   "source": [
    "max_runs = deliveries[deliveries['batsman'] == 'V Kohli']"
   ]
  },
  {
   "cell_type": "code",
   "execution_count": null,
   "id": "a6f9d6b1",
   "metadata": {},
   "outputs": [],
   "source": [
    "max_runs.groupby('bowling_team')['batsman_runs'].sum().sort_values(ascending = False).head()"
   ]
  },
  {
   "cell_type": "code",
   "execution_count": null,
   "id": "74c19aa2",
   "metadata": {},
   "outputs": [],
   "source": [
    "def run_scored(batsman_name):\n",
    "    max_runs = deliveries[deliveries['batsman'] == batsman_name]\n",
    "    return max_runs.groupby('bowling_team')['batsman_runs'].sum().sort_values(ascending = False).head(1).index[0]"
   ]
  },
  {
   "cell_type": "code",
   "execution_count": null,
   "id": "39bb92d4",
   "metadata": {},
   "outputs": [],
   "source": [
    "run_scored('V Kohli')"
   ]
  },
  {
   "cell_type": "markdown",
   "id": "658ffcaf",
   "metadata": {},
   "source": [
    "## isin()\n",
    "## Find the most destructive batsman in death overs in the history of IPL\n",
    "## On basis of Strike Rate and Min balls faced by batsman in 16-20 overs is 200"
   ]
  },
  {
   "cell_type": "code",
   "execution_count": null,
   "id": "2602812d",
   "metadata": {},
   "outputs": [],
   "source": [
    "death_overs = deliveries[deliveries['over'] >= 16 ]"
   ]
  },
  {
   "cell_type": "code",
   "execution_count": null,
   "id": "6e8be4b2",
   "metadata": {},
   "outputs": [],
   "source": [
    "death_overs.head(2)"
   ]
  },
  {
   "cell_type": "code",
   "execution_count": null,
   "id": "21ed81e0",
   "metadata": {},
   "outputs": [],
   "source": [
    "all_batsmen = death_overs.groupby('batsman')['batsman_runs'].count()\n",
    "x = all_batsmen > 200\n",
    "batsmen_list = all_batsmen[x].index.tolist()"
   ]
  },
  {
   "cell_type": "code",
   "execution_count": null,
   "id": "be1cafeb",
   "metadata": {},
   "outputs": [],
   "source": [
    "batsmen_list"
   ]
  },
  {
   "cell_type": "code",
   "execution_count": null,
   "id": "5ed3109f",
   "metadata": {},
   "outputs": [],
   "source": [
    "# Runs scored by all these 43 batsmen\n",
    "# Balls played by all these 43 batsmen\n",
    "\n",
    "final = death_overs[death_overs['batsman'].isin(batsmen_list)]"
   ]
  },
  {
   "cell_type": "code",
   "execution_count": null,
   "id": "74c601e5",
   "metadata": {},
   "outputs": [],
   "source": [
    "runs = final.groupby('batsman')['batsman_runs'].sum()"
   ]
  },
  {
   "cell_type": "code",
   "execution_count": null,
   "id": "3a67832d",
   "metadata": {},
   "outputs": [],
   "source": [
    "balls = final.groupby('batsman')['batsman_runs'].count()"
   ]
  },
  {
   "cell_type": "code",
   "execution_count": null,
   "id": "d9f0c669",
   "metadata": {},
   "outputs": [],
   "source": [
    "sr = (runs/balls)*100"
   ]
  },
  {
   "cell_type": "code",
   "execution_count": null,
   "id": "e7b73e95",
   "metadata": {},
   "outputs": [],
   "source": [
    "sr.sort_values(ascending=False).head()"
   ]
  },
  {
   "cell_type": "markdown",
   "id": "3c1b4817",
   "metadata": {},
   "source": [
    "## Merge"
   ]
  },
  {
   "cell_type": "code",
   "execution_count": null,
   "id": "667d13c4",
   "metadata": {},
   "outputs": [],
   "source": [
    "merged_data = deliveries.merge(data, left_on='match_id',right_on='id')"
   ]
  },
  {
   "cell_type": "code",
   "execution_count": null,
   "id": "a850d3a1",
   "metadata": {},
   "outputs": [],
   "source": [
    "merged_data.head(2)"
   ]
  },
  {
   "cell_type": "code",
   "execution_count": null,
   "id": "0807fefb",
   "metadata": {},
   "outputs": [],
   "source": [
    "deliveries.shape"
   ]
  },
  {
   "cell_type": "code",
   "execution_count": null,
   "id": "945c2379",
   "metadata": {},
   "outputs": [],
   "source": [
    "data.shape"
   ]
  },
  {
   "cell_type": "code",
   "execution_count": null,
   "id": "cb800439",
   "metadata": {},
   "outputs": [],
   "source": [
    "merged_data.groupby(['season','batsman'])['batsman_runs'].sum()"
   ]
  },
  {
   "cell_type": "code",
   "execution_count": null,
   "id": "b888a7c9",
   "metadata": {},
   "outputs": [],
   "source": [
    "# multi index series\n",
    "type(merged_data.groupby(['season','batsman'])['batsman_runs'].sum())"
   ]
  },
  {
   "cell_type": "code",
   "execution_count": null,
   "id": "b77a6d30",
   "metadata": {},
   "outputs": [],
   "source": [
    "merged_data.groupby(['season','batsman'])['batsman_runs'].sum().sort_values(ascending=False).reset_index().drop_duplicates(subset='season', keep='first').sort_values('season')[['season','batsman']]"
   ]
  },
  {
   "cell_type": "markdown",
   "id": "04d318e5",
   "metadata": {},
   "source": [
    "## Pivot table"
   ]
  },
  {
   "cell_type": "code",
   "execution_count": null,
   "id": "183f1693",
   "metadata": {},
   "outputs": [],
   "source": [
    "six = deliveries[deliveries['batsman_runs'] == 6]"
   ]
  },
  {
   "cell_type": "code",
   "execution_count": null,
   "id": "55e2985a",
   "metadata": {},
   "outputs": [],
   "source": [
    "pt = six.pivot_table(index='over', columns='batting_team', values='batsman_runs', aggfunc='count')"
   ]
  },
  {
   "cell_type": "code",
   "execution_count": null,
   "id": "4408a581",
   "metadata": {},
   "outputs": [],
   "source": [
    "import seaborn as sns"
   ]
  },
  {
   "cell_type": "code",
   "execution_count": null,
   "id": "9ee90f14",
   "metadata": {},
   "outputs": [],
   "source": [
    "sns.heatmap(pt)"
   ]
  },
  {
   "cell_type": "code",
   "execution_count": null,
   "id": "c1aa6ac8",
   "metadata": {},
   "outputs": [],
   "source": [
    "data.corr()"
   ]
  },
  {
   "cell_type": "code",
   "execution_count": null,
   "id": "3e22a780",
   "metadata": {},
   "outputs": [],
   "source": [
    "sns.heatmap(data.corr())"
   ]
  },
  {
   "cell_type": "markdown",
   "id": "78fc7fdd",
   "metadata": {},
   "source": [
    "## Rename Colums"
   ]
  },
  {
   "cell_type": "code",
   "execution_count": null,
   "id": "18238e86",
   "metadata": {},
   "outputs": [],
   "source": [
    "data.rename(columns={'city':'place','date':'dom'}).head(2)"
   ]
  },
  {
   "cell_type": "code",
   "execution_count": null,
   "id": "77a33cb0",
   "metadata": {},
   "outputs": [],
   "source": [
    "data.head(2)"
   ]
  },
  {
   "cell_type": "markdown",
   "id": "5c64cfba",
   "metadata": {},
   "source": [
    "## set_index() and reset_index()"
   ]
  },
  {
   "cell_type": "code",
   "execution_count": null,
   "id": "98b36653",
   "metadata": {},
   "outputs": [],
   "source": [
    "data.head(2)"
   ]
  },
  {
   "cell_type": "code",
   "execution_count": null,
   "id": "598296fa",
   "metadata": {},
   "outputs": [],
   "source": [
    "data.set_index('id')"
   ]
  },
  {
   "cell_type": "code",
   "execution_count": null,
   "id": "8006fe99",
   "metadata": {},
   "outputs": [],
   "source": [
    "data.reset_index()"
   ]
  },
  {
   "cell_type": "code",
   "execution_count": null,
   "id": "0aeb7419",
   "metadata": {},
   "outputs": [],
   "source": [
    "data.head(2)"
   ]
  },
  {
   "cell_type": "code",
   "execution_count": null,
   "id": "0c11716f",
   "metadata": {},
   "outputs": [],
   "source": [
    "data['winner'].value_counts()"
   ]
  },
  {
   "cell_type": "code",
   "execution_count": null,
   "id": "3de4d86a",
   "metadata": {},
   "outputs": [],
   "source": [
    "data['winner'].value_counts().reset_index()"
   ]
  },
  {
   "cell_type": "code",
   "execution_count": null,
   "id": "35a6e90a",
   "metadata": {},
   "outputs": [],
   "source": []
  }
 ],
 "metadata": {
  "kernelspec": {
   "display_name": "Python 3",
   "language": "python",
   "name": "python3"
  },
  "language_info": {
   "codemirror_mode": {
    "name": "ipython",
    "version": 3
   },
   "file_extension": ".py",
   "mimetype": "text/x-python",
   "name": "python",
   "nbconvert_exporter": "python",
   "pygments_lexer": "ipython3",
   "version": "3.8.8"
  }
 },
 "nbformat": 4,
 "nbformat_minor": 5
}
